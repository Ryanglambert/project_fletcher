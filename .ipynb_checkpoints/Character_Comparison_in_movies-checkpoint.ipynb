{
 "cells": [
  {
   "cell_type": "code",
   "execution_count": 577,
   "metadata": {
    "collapsed": false
   },
   "outputs": [],
   "source": [
    "import numpy as np\n",
    "import requests\n",
    "import re\n",
    "\n",
    "from bs4 import BeautifulSoup\n",
    "\n",
    "from nltk import sent_tokenize\n",
    "from nltk import word_tokenize\n",
    "from nltk import pos_tag\n",
    "from nltk import PorterStemmer\n",
    "from nltk.corpus import stopwords\n",
    "\n",
    "from sklearn.cluster import KMeans, AffinityPropagation\n",
    "from sklearn import metrics\n",
    "\n",
    "from sklearn.feature_extraction.text import TfidfVectorizer\n",
    "from scipy.sparse.linalg import svds as SVDS\n",
    "from scipy.spatial.distance import pdist\n",
    "from scipy.spatial.distance import squareform\n",
    "from sklearn.manifold import TSNE\n",
    "from sklearn.metrics.pairwise import distance_metrics \n",
    "from sklearn.metrics.pairwise import pairwise_distances\n",
    "import seaborn as sns\n",
    "import matplotlib.patheffects as PathEffects\n",
    "from itertools import groupby, count\n",
    "import matplotlib.pyplot as plt\n",
    "\n",
    "%matplotlib inline\n",
    "\n",
    "\n",
    "\n",
    "\n",
    "stop_words = stopwords.words('english')\n",
    "def get_movie_soup(link):\n",
    "    response = requests.get(link)\n",
    "    movie_soup = BeautifulSoup(response.content, 'html.parser')\n",
    "    return movie_soup\n",
    "\n",
    "from collections import defaultdict, OrderedDict\n",
    "string_list = [\"FINN\", \"EXT. NIIMA OUTPOST - DAY\", \"I/E MARK'S FORD - DAY\",\n",
    "              \"CUT TO:\", \"(to chewie)\"]\n",
    "\n",
    "def is_scene(string, tags=['INT.', 'EXT.', 'I/E', '-']):\n",
    "    int_or_ext = [i in string.upper() for i in tags]\n",
    "    return sum(int_or_ext) != 0\n",
    "\n",
    "BEG_PARENS_REGEX = re.compile(r'\\(')\n",
    "def is_addressant(string):\n",
    "    if BEG_PARENS_REGEX.match(string):\n",
    "        return True\n",
    "    else:\n",
    "        return False\n",
    "\n",
    "\n",
    "# for i in zip(string_list, map(is_scene, string_list)):\n",
    "#     print \"is scene?: \", i\n",
    "# for i in zip(string_list, map(is_addressant, string_list)):\n",
    "#     print \"is addressant?: \", i\n",
    "\n",
    "a = 'hello      high     how are you.  There.'\n",
    "rey = \"REY (CONT'D)\"\n",
    "han = \"HAN (Continued)\"\n",
    "ext = \"EXT. SOMETHING DARKSIDE\"\n",
    "\n",
    "WHT_SPC_REGEX = re.compile(r'\\s{2,}')\n",
    "def remove_long_white_space(string):\n",
    "    new_string = WHT_SPC_REGEX.sub(' ', string)\n",
    "    return new_string\n",
    "\n",
    "PARENS_REGEX = re.compile(r'(\\w{2,})+\\s(.*)')\n",
    "def remove_parens(string):\n",
    "    if \"(\" in string:        \n",
    "        new_string = PARENS_REGEX.sub(r'\\1', string)\n",
    "        return new_string\n",
    "    else:\n",
    "        return string\n",
    "\n",
    "\n",
    "remove_parens(ext)\n",
    "\n",
    "def get_movie_script(link):\n",
    "    movie_soup = get_movie_soup(link)\n",
    "    movie_text = movie_soup.findAll('pre')[0]\n",
    "    return to_unicode_or_bust(str(movie_text))\n",
    "# script = few_good_men.findAll('pre')[0]\n",
    "\n",
    "def to_unicode_or_bust(\n",
    "    obj, encoding='utf-8'):\n",
    "    if isinstance(obj, basestring):\n",
    "        if not isinstance(obj, unicode):\n",
    "            obj = unicode(obj, encoding)\n",
    "    return obj\n",
    "\n",
    "def clean_text(text):\n",
    "    bold_splits = text.split('<b>')\n",
    "\n",
    "    character_docs = defaultdict(list)\n",
    "    scene_docs = defaultdict(list)\n",
    "\n",
    "    character_sents = []\n",
    "    character_track = []\n",
    "\n",
    "    current_scene = None\n",
    "    prior_character = None\n",
    "    missed_things = 0\n",
    "    porter_stemmer = PorterStemmer()\n",
    "    for slug in bold_splits:\n",
    "        phrase = slug.strip().split('</b>')\n",
    "        bold = phrase[0].strip()\n",
    "        bold = remove_parens(bold)\n",
    "\n",
    "        if is_scene(bold):\n",
    "            current_scene = bold\n",
    "\n",
    "        try:\n",
    "            sentences = phrase[1].strip()        \n",
    "            if not is_scene(bold):\n",
    "                sentences_list = sent_tokenize(sentences, language=\"english\")\n",
    "                for sent in sentences_list:\n",
    "                    sent_cleaned = sent.replace(\"\\r\\n\", \"\")\n",
    "                    sent_cleaned = remove_long_white_space(sent_cleaned)\n",
    "                    sent_cleaned = sent_cleaned.lower()\n",
    "                    current_character = bold\n",
    "                    if is_addressant(bold):\n",
    "                        current_character = prior_character\n",
    "\n",
    "                    if sent_cleaned != None and current_scene != None\\\n",
    "                    and current_character != None:\n",
    "                        sent_cleaned = sent_cleaned.split(\" \")\n",
    "                        sent_cleaned = \" \".join(porter_stemmer.stem_word(word) for word in sent_cleaned)\n",
    "#                         character_docs[current_character].append((\n",
    "#                         \" \".join([sent_cleaned, current_scene])))\n",
    "                        character_docs[current_character].append((\n",
    "                        \" \".join([sent_cleaned, current_scene])))                        \n",
    "    #                     character_sents.append((sent_cleaned, current_scene))\n",
    "    #                     character_track.append(current_character)\n",
    "\n",
    "                    prior_character = bold\n",
    "\n",
    "\n",
    "        except IndexError:\n",
    "            pass\n",
    "            missed_things += 1\n",
    "    return character_docs\n",
    "\n",
    "\n",
    "\n",
    "def order_character_dict(dictionary):\n",
    "    characters = dictionary.keys()\n",
    "    for name in characters:\n",
    "        for name_scan in characters:\n",
    "            if name in name_scan and name != name_scan:\n",
    "                dictionary[name] += dictionary[name_scan]\n",
    "                dictionary[name_scan] = []\n",
    "\n",
    "    ordered = OrderedDict(sorted(dictionary.items(), \n",
    "                                 key=lambda t: len(t[1]), \n",
    "                                 reverse=True))\n",
    "    return ordered\n",
    "\n",
    "\n",
    "def gen_char_tags(characters_to_analyze, character_docs):\n",
    "\n",
    "    sentence_list = []\n",
    "    char_tags = []\n",
    "    for character in characters_to_analyze:\n",
    "        for line in character_docs[character]:\n",
    "            sentence_list.append(line)\n",
    "            char_tags.append(character)\n",
    "    return char_tags, sentence_list\n",
    "\n",
    "def scatter(x, ch_label):\n",
    "    # We choose a color palette with seaborn.\n",
    "    palette = np.array(sns.color_palette(\"muted\", len(ch_label)))\n",
    "\n",
    "    # We create a scatter plot.\n",
    "    f = plt.figure(figsize=(8, 8))\n",
    "    ax = plt.subplot(aspect='equal')\n",
    "    sc = ax.scatter(x[:,0], x[:,1], lw=0, s=40,\n",
    "                    c=palette[ch_label.astype(np.int)])\n",
    "#     plt.xlim(-25, 25)\n",
    "#     plt.ylim(-25, 25)\n",
    "    plt.xlim(-.1, .1)\n",
    "    plt.ylim(-.1, .1)\n",
    "    plt.grid()\n",
    "    ax.axis('off')\n",
    "    ax.axis('tight')\n",
    "\n",
    "    # We add the labels for each digit.\n",
    "    txts = []\n",
    "    for i in set(ch_label):\n",
    "#         print CHARACTERS_TO_ANALYZE[i]\n",
    "        xtext, ytext = np.median(x[ch_label == i, :], axis=0)\n",
    "#         print \"x is\", x\n",
    "#         print \"ch_label is: \", ch_label\n",
    "        txt = ax.text(xtext, ytext, CHARACTERS_TO_ANALYZE[i], fontsize=24, color=palette[i])\n",
    "        txt.set_path_effects([\n",
    "            PathEffects.Stroke(linewidth=5, foreground=\"w\"),\n",
    "            PathEffects.Normal()])\n",
    "        txts.append(txt)\n",
    "#     for char in \n",
    "    return f, ax, sc, txts\n",
    "\n",
    "def plot_corr(input_clustered_ch_w_sent, filtered_characters):\n",
    "    character_groups = []\n",
    "    ch_uniquekeys = []\n",
    "    clustered_ch_w_sent = [i for i in input_clustered_ch_w_sent if i[1] in filtered_characters]\n",
    "\n",
    "    for i, label in groupby(clustered_ch_w_sent, lambda x: x[0]):\n",
    "        local_labels = [i[1] for i in label]\n",
    "    #     local_labels = Counter([i[1] for i in label])\n",
    "        character_groups.append(local_labels)\n",
    "        ch_uniquekeys.append(i)\n",
    "\n",
    "\n",
    "    character_doc_vectorizer = TfidfVectorizer(norm='l1')\n",
    "    ch_occurences = [\" \".join(i) for i in character_groups]\n",
    "    ch_x = character_doc_vectorizer.fit_transform(ch_occurences)\n",
    "    ch_pairs = pairwise_distances(ch_x.T, metric='cosine') + .0001\n",
    "    \n",
    "    character_names = [i.upper() for i in character_doc_vectorizer.get_feature_names()]\n",
    "\n",
    "    pair_dist = pdist(ch_x.T.toarray())\n",
    "    v = squareform(pair_dist)\n",
    "    fig = plt.figure(figsize=(10,10))\n",
    "    ax = fig.add_subplot(111)\n",
    "    labels = np.array(character_names)\n",
    "    ax.matshow(v, cmap=plt.cm.gray)\n",
    "    ax.set_xticks(range(len(character_names)))\n",
    "    ax.set_yticks(range(len(character_names)))\n",
    "    ax.set_yticklabels(labels)\n",
    "    ax.set_xticklabels(labels);\n",
    "\n",
    "def cluster_docs(script):\n",
    "    cluster_model = AffinityPropagation(affinity='precomputed', damping=.5)\n",
    "    precomputed_script = pairwise_distances(script, metric='cosine') + .0001\n",
    "    cluster_model.fit_predict(precomputed_script)\n",
    "#     clustered_characters = sorted(zip(ac.labels_, CHAR_TAGS), key=lambda x: x[0])\n",
    "    clustered_characters_w_sentence = sorted(zip(cluster_model.labels_, CHAR_TAGS, SENTENCE_LIST), key=lambda x: x[0])\n",
    "    silh_score = metrics.silhouette_score(precomputed_script, cluster_model.labels_, metric='precomputed')\n",
    "    return silh_score, cluster_model, clustered_characters_w_sentence\n",
    "\n",
    "def fit_plot_tsne_cos(x):\n",
    "    precomputed_x = pairwise_distances(x, metric='cosine') + .0001\n",
    "    scripts_proj = TSNE(random_state=0, n_components=2, metric='precomputed').fit_transform(precomputed_x)\n",
    "    char_convert_num = dict(enumerate(CHARACTERS_TO_ANALYZE))\n",
    "    char_convert_num = {v: k for k, v in char_convert_num.items()}\n",
    "    char_nums = np.array(map(lambda key: char_convert_num[key], CHAR_TAGS))\n",
    "    return scripts_proj, char_nums\n",
    "\n",
    "def filter_array(scripts_proj, char_nums, names_to_plot_list):\n",
    "    filter_array = np.array(map(lambda x: bool(x in names_to_plot_list), CHAR_TAGS))\n",
    "    filtered_char_nums = char_nums[filter_array]\n",
    "    filtered_scripts_proj = scripts_proj[filter_array] \n",
    "\n",
    "    ### only plot these names though\n",
    "    ### We only want to plot the indexes of scripts_proj and char_names that have\n",
    "    ### The indexes of the desired characters.  \n",
    "    ### 1. Get the indexes of the desired characters\n",
    "    return filtered_scripts_proj, filtered_char_nums        \n",
    "    "
   ]
  },
  {
   "cell_type": "markdown",
   "metadata": {},
   "source": [
    "#### There's some cleaning up to be done for getting semi-unique character names better.  \n",
    "\n",
    "*i.e. General Hux vs General 'something' would just yield two 'General' 's*"
   ]
  },
  {
   "cell_type": "markdown",
   "metadata": {},
   "source": [
    "# Vectorize and SVD Per Character"
   ]
  },
  {
   "cell_type": "markdown",
   "metadata": {},
   "source": [
    "Need to reduce for set of characters then cluster (then grab cosine similarity of the means of c"
   ]
  },
  {
   "cell_type": "markdown",
   "metadata": {},
   "source": [
    "# SELECT CHARACTERS"
   ]
  },
  {
   "cell_type": "markdown",
   "metadata": {},
   "source": [
    "# Cosine Similarity: TSNE then AffinityPropagation"
   ]
  },
  {
   "cell_type": "markdown",
   "metadata": {},
   "source": [
    "### TSNE"
   ]
  },
  {
   "cell_type": "markdown",
   "metadata": {},
   "source": [
    "# Wolf of Wall Street"
   ]
  },
  {
   "cell_type": "code",
   "execution_count": 578,
   "metadata": {
    "collapsed": false
   },
   "outputs": [],
   "source": [
    "# SCRIPT = get_movie_script('http://www.imsdb.com/scripts/A-Few-Good-Men.html')\n",
    "# SCRIPT = get_movie_script('http://www.imsdb.com/scripts/Star-Wars-The-Force-Awakens.html')\n",
    "# SCRIPT = get_movie_script('http://www.imsdb.com/scripts/I-Still-Know-What-You-Did-Last-Summer.html')\n",
    "SCRIPT = get_movie_script(\"http://www.imsdb.com/scripts/Pride-and-Prejudice.html\")\n",
    "CHARACTER_DOCS = order_character_dict(\n",
    "    clean_text(SCRIPT))\n",
    "CHARACTERS_TO_ANALYZE = CHARACTER_DOCS.keys()\n",
    "CHAR_TAGS, SENTENCE_LIST = gen_char_tags(CHARACTERS_TO_ANALYZE, CHARACTER_DOCS)\n",
    "vectorizer = TfidfVectorizer(ngram_range=(1,2), stop_words=stop_words)\n",
    "TFIDF_SCRIPT = vectorizer.fit_transform(SENTENCE_LIST)\n",
    "\n",
    "T,sigma,D_trans = SVDS(TFIDF_SCRIPT.toarray().T, k=5)\n",
    "D = D_trans.T\n",
    "scripts, char_nums = fit_plot_tsne_cos(D)"
   ]
  },
  {
   "cell_type": "markdown",
   "metadata": {},
   "source": [
    "# Maybe try DBSCAN?  since the clusters aren't round and the number of clusters is unknown"
   ]
  },
  {
   "cell_type": "markdown",
   "metadata": {},
   "source": [
    "# Definitely include the counts/relationship of characters as they appear in similar clusters.  "
   ]
  },
  {
   "cell_type": "markdown",
   "metadata": {},
   "source": [
    "#### Select character"
   ]
  },
  {
   "cell_type": "code",
   "execution_count": 589,
   "metadata": {
    "collapsed": false
   },
   "outputs": [
    {
     "data": {
      "text/plain": [
       "[u'ELIZABETH',\n",
       " u'MRS BENNET',\n",
       " u'DARCY',\n",
       " u'JANE',\n",
       " u'MR BENNET',\n",
       " u'LYDIA',\n",
       " u'LADY CATHERINE',\n",
       " u'\\xc2\\x80\\xa2',\n",
       " u'CUT TO:',\n",
       " u'CHARLOTTE',\n",
       " u'WICKHAM',\n",
       " u'BINGLEY',\n",
       " u'MR COLLINS',\n",
       " u'CAROLINE BINGLEY',\n",
       " u'COLLINS',\n",
       " u'KITTY',\n",
       " u'MRS GARDINER',\n",
       " u'FITZWILLIAM',\n",
       " u'LIZZIE',\n",
       " u'MARY',\n",
       " u'MRS',\n",
       " u'MRS REYNOLDS',\n",
       " u'MR BINGLEY',\n",
       " u'(PAUSE)',\n",
       " u'MR GARDINER',\n",
       " u'PLAYING)',\n",
       " u'MISS BINGLEY',\n",
       " u'SIR WILLIAM',\n",
       " u'(TO',\n",
       " u'MRS HILL']"
      ]
     },
     "execution_count": 589,
     "metadata": {},
     "output_type": "execute_result"
    }
   ],
   "source": [
    "CHARACTERS_TO_ANALYZE[:30]"
   ]
  },
  {
   "cell_type": "code",
   "execution_count": 599,
   "metadata": {
    "collapsed": false
   },
   "outputs": [
    {
     "data": {
      "image/png": "[encoded data removed]",
      "text/plain": [
       "<matplotlib.figure.Figure at 0x1216a4950>"
      ]
     },
     "metadata": {},
     "output_type": "display_data"
    }
   ],
   "source": [
    "NAMES_TO_PLOT = ['ELIZABETH', 'JANE', 'DARCY', 'LADY CATHERINE', 'LYDIA', 'MR BINGLEY']\n",
    "\n",
    "filtered_scripts, filtered_char_nums = filter_array(scripts, char_nums, NAMES_TO_PLOT)\n",
    "scatter(filtered_scripts,filtered_char_nums);"
   ]
  },
  {
   "cell_type": "code",
   "execution_count": 582,
   "metadata": {
    "collapsed": true
   },
   "outputs": [],
   "source": [
    "silh_score, cluster_model, clustered_characters_w_sentence = cluster_docs(filtered_scripts)"
   ]
  },
  {
   "cell_type": "code",
   "execution_count": 583,
   "metadata": {
    "collapsed": false
   },
   "outputs": [
    {
     "data": {
      "text/plain": [
       "-0.32060376501786558"
      ]
     },
     "execution_count": 583,
     "metadata": {},
     "output_type": "execute_result"
    }
   ],
   "source": [
    "silh_score"
   ]
  },
  {
   "cell_type": "code",
   "execution_count": 521,
   "metadata": {
    "collapsed": true
   },
   "outputs": [
    {
     "data": {
      "text/plain": [
       "[(3, 'FINN', 'i see it! INT. TIE FIGHTER - DAY'),\n",
       " (3,\n",
       "  'FINN',\n",
       "  'the flood tunnel are over that ridge. EXT. STARKILLER BASE - DAY'),\n",
       " (3, 'FINN', \"we'll get in that way. EXT. STARKILLER BASE - DAY\"),\n",
       " (3, 'FINN', 'sanitation. EXT. STARKILLER BASE - DAY'),\n",
       " (3, 'FINN', \"i don't. EXT. STARKILLER BASE - DAY\"),\n",
       " (3, 'FINN', \"i'm just here to get rey. EXT. STARKILLER BASE - DAY\"),\n",
       " (3, 'FINN', \"solo, we'll figur it out! EXT. STARKILLER BASE - DAY\"),\n",
       " (3, 'FINN', \"we'll use the force! EXT. STARKILLER BASE - DAY\"),\n",
       " (3, 'FINN', 'come on! EXT. STARKILLER BASE - DAY'),\n",
       " (3,\n",
       "  'FINN',\n",
       "  u'they follow finn on the snowi hike. EXT. STARKILLER BASE - DAY'),\n",
       " (3, 'FINN', 'on the horizon, the EXT. STARKILLER BASE - DAY'),\n",
       " (3,\n",
       "  'FINN',\n",
       "  u'finn and rey, overcom with emotion, race through the snowi forest -- until finn slow and stops. EXT. FOREST - NIGHT'),\n",
       " (3, 'FINN', 'rey stop too, both out of breath. EXT. FOREST - NIGHT'),\n",
       " (3, 'FINN', 'they look at each other. EXT. FOREST - NIGHT'),\n",
       " (3, 'FINN', \"they both know: they can't run. EXT. FOREST - NIGHT\"),\n",
       " (3,\n",
       "  'REY',\n",
       "  'thi droid ha to get to the resist base as soon as possible! THE HYPERDRIVE--'),\n",
       " (3, 'REY', 'the force. EXT. FOREST - NIGHT'),\n",
       " (3, 'REY', 'rey close her eye for a long beat. EXT. FOREST - NIGHT'),\n",
       " (3, 'REY', 'finn! EXT. FOREST - NIGHT'),\n",
       " (3,\n",
       "  'REY',\n",
       "  u'finn... tear come to her eye as she lift him, hold hi lifeless bodi in her arms. EXT. FOREST - NIGHT'),\n",
       " (3,\n",
       "  'REY',\n",
       "  u'snow flurri around them as she cries, hold thi boy who she just met, who she alreadi adores. EXT. FOREST - NIGHT'),\n",
       " (3, 'REY', 'and just as it seem like all is lost... EXT. FOREST - NIGHT'),\n",
       " (3, 'REY', 'her wet eye look up to see: EXT. FOREST - NIGHT'),\n",
       " (3, 'HAN', \"take it. EXT. MAZ'S CASTLE - DAY\"),\n",
       " (3, 'HAN', \"rey pick it up. EXT. MAZ'S CASTLE - DAY\")]"
      ]
     },
     "execution_count": 521,
     "metadata": {},
     "output_type": "execute_result"
    }
   ],
   "source": [
    "[i for i in clustered_characters_w_sentence if i[0] == 3]"
   ]
  },
  {
   "cell_type": "code",
   "execution_count": 597,
   "metadata": {
    "collapsed": true
   },
   "outputs": [
    {
     "name": "stderr",
     "output_type": "stream",
     "text": [
      "/usr/local/lib/python2.7/site-packages/sklearn/utils/validation.py:386: DeprecationWarning: Passing 1d arrays as data is deprecated in 0.17 and willraise ValueError in 0.19. Reshape your data either using X.reshape(-1, 1) if your data has a single feature or X.reshape(1, -1) if it contains a single sample.\n",
      "  DeprecationWarning)\n"
     ]
    },
    {
     "ename": "ValueError",
     "evalue": "array must not contain infs or NaNs",
     "output_type": "error",
     "traceback": [
      "\u001b[0;31m---------------------------------------------------------------------------\u001b[0m",
      "\u001b[0;31mValueError\u001b[0m                                Traceback (most recent call last)",
      "\u001b[0;32m<ipython-input-597-95af419ad356>\u001b[0m in \u001b[0;36m<module>\u001b[0;34m()\u001b[0m\n\u001b[0;32m----> 1\u001b[0;31m \u001b[0ma\u001b[0m\u001b[0;34m,\u001b[0m \u001b[0mb\u001b[0m \u001b[0;34m=\u001b[0m \u001b[0mfit_plot_tsne_cos\u001b[0m\u001b[0;34m(\u001b[0m\u001b[0mcluster_model\u001b[0m\u001b[0;34m.\u001b[0m\u001b[0mcluster_centers_indices_\u001b[0m\u001b[0;34m)\u001b[0m\u001b[0;34m\u001b[0m\u001b[0m\n\u001b[0m",
      "\u001b[0;32m<ipython-input-577-342a4173ae57>\u001b[0m in \u001b[0;36mfit_plot_tsne_cos\u001b[0;34m(x)\u001b[0m\n\u001b[1;32m    242\u001b[0m \u001b[0;32mdef\u001b[0m \u001b[0mfit_plot_tsne_cos\u001b[0m\u001b[0;34m(\u001b[0m\u001b[0mx\u001b[0m\u001b[0;34m)\u001b[0m\u001b[0;34m:\u001b[0m\u001b[0;34m\u001b[0m\u001b[0m\n\u001b[1;32m    243\u001b[0m     \u001b[0mprecomputed_x\u001b[0m \u001b[0;34m=\u001b[0m \u001b[0mpairwise_distances\u001b[0m\u001b[0;34m(\u001b[0m\u001b[0mx\u001b[0m\u001b[0;34m,\u001b[0m \u001b[0mmetric\u001b[0m\u001b[0;34m=\u001b[0m\u001b[0;34m'cosine'\u001b[0m\u001b[0;34m)\u001b[0m \u001b[0;34m+\u001b[0m \u001b[0;36m.0001\u001b[0m\u001b[0;34m\u001b[0m\u001b[0m\n\u001b[0;32m--> 244\u001b[0;31m     \u001b[0mscripts_proj\u001b[0m \u001b[0;34m=\u001b[0m \u001b[0mTSNE\u001b[0m\u001b[0;34m(\u001b[0m\u001b[0mrandom_state\u001b[0m\u001b[0;34m=\u001b[0m\u001b[0;36m0\u001b[0m\u001b[0;34m,\u001b[0m \u001b[0mn_components\u001b[0m\u001b[0;34m=\u001b[0m\u001b[0;36m2\u001b[0m\u001b[0;34m,\u001b[0m \u001b[0mmetric\u001b[0m\u001b[0;34m=\u001b[0m\u001b[0;34m'precomputed'\u001b[0m\u001b[0;34m)\u001b[0m\u001b[0;34m.\u001b[0m\u001b[0mfit_transform\u001b[0m\u001b[0;34m(\u001b[0m\u001b[0mprecomputed_x\u001b[0m\u001b[0;34m)\u001b[0m\u001b[0;34m\u001b[0m\u001b[0m\n\u001b[0m\u001b[1;32m    245\u001b[0m     \u001b[0mchar_convert_num\u001b[0m \u001b[0;34m=\u001b[0m \u001b[0mdict\u001b[0m\u001b[0;34m(\u001b[0m\u001b[0menumerate\u001b[0m\u001b[0;34m(\u001b[0m\u001b[0mCHARACTERS_TO_ANALYZE\u001b[0m\u001b[0;34m)\u001b[0m\u001b[0;34m)\u001b[0m\u001b[0;34m\u001b[0m\u001b[0m\n\u001b[1;32m    246\u001b[0m     \u001b[0mchar_convert_num\u001b[0m \u001b[0;34m=\u001b[0m \u001b[0;34m{\u001b[0m\u001b[0mv\u001b[0m\u001b[0;34m:\u001b[0m \u001b[0mk\u001b[0m \u001b[0;32mfor\u001b[0m \u001b[0mk\u001b[0m\u001b[0;34m,\u001b[0m \u001b[0mv\u001b[0m \u001b[0;32min\u001b[0m \u001b[0mchar_convert_num\u001b[0m\u001b[0;34m.\u001b[0m\u001b[0mitems\u001b[0m\u001b[0;34m(\u001b[0m\u001b[0;34m)\u001b[0m\u001b[0;34m}\u001b[0m\u001b[0;34m\u001b[0m\u001b[0m\n",
      "\u001b[0;32m/usr/local/lib/python2.7/site-packages/sklearn/manifold/t_sne.pyc\u001b[0m in \u001b[0;36mfit_transform\u001b[0;34m(self, X, y)\u001b[0m\n\u001b[1;32m    864\u001b[0m             \u001b[0mEmbedding\u001b[0m \u001b[0mof\u001b[0m \u001b[0mthe\u001b[0m \u001b[0mtraining\u001b[0m \u001b[0mdata\u001b[0m \u001b[0;32min\u001b[0m \u001b[0mlow\u001b[0m\u001b[0;34m-\u001b[0m\u001b[0mdimensional\u001b[0m \u001b[0mspace\u001b[0m\u001b[0;34m.\u001b[0m\u001b[0;34m\u001b[0m\u001b[0m\n\u001b[1;32m    865\u001b[0m         \"\"\"\n\u001b[0;32m--> 866\u001b[0;31m         \u001b[0membedding\u001b[0m \u001b[0;34m=\u001b[0m \u001b[0mself\u001b[0m\u001b[0;34m.\u001b[0m\u001b[0m_fit\u001b[0m\u001b[0;34m(\u001b[0m\u001b[0mX\u001b[0m\u001b[0;34m)\u001b[0m\u001b[0;34m\u001b[0m\u001b[0m\n\u001b[0m\u001b[1;32m    867\u001b[0m         \u001b[0mself\u001b[0m\u001b[0;34m.\u001b[0m\u001b[0membedding_\u001b[0m \u001b[0;34m=\u001b[0m \u001b[0membedding\u001b[0m\u001b[0;34m\u001b[0m\u001b[0m\n\u001b[1;32m    868\u001b[0m         \u001b[0;32mreturn\u001b[0m \u001b[0mself\u001b[0m\u001b[0;34m.\u001b[0m\u001b[0membedding_\u001b[0m\u001b[0;34m\u001b[0m\u001b[0m\n",
      "\u001b[0;32m/usr/local/lib/python2.7/site-packages/sklearn/manifold/t_sne.pyc\u001b[0m in \u001b[0;36m_fit\u001b[0;34m(self, X, skip_num_points)\u001b[0m\n\u001b[1;32m    775\u001b[0m                           \u001b[0mX_embedded\u001b[0m\u001b[0;34m=\u001b[0m\u001b[0mX_embedded\u001b[0m\u001b[0;34m,\u001b[0m\u001b[0;34m\u001b[0m\u001b[0m\n\u001b[1;32m    776\u001b[0m                           \u001b[0mneighbors\u001b[0m\u001b[0;34m=\u001b[0m\u001b[0mneighbors_nn\u001b[0m\u001b[0;34m,\u001b[0m\u001b[0;34m\u001b[0m\u001b[0m\n\u001b[0;32m--> 777\u001b[0;31m                           skip_num_points=skip_num_points)\n\u001b[0m\u001b[1;32m    778\u001b[0m \u001b[0;34m\u001b[0m\u001b[0m\n\u001b[1;32m    779\u001b[0m     def _tsne(self, P, degrees_of_freedom, n_samples, random_state,\n",
      "\u001b[0;32m/usr/local/lib/python2.7/site-packages/sklearn/manifold/t_sne.pyc\u001b[0m in \u001b[0;36m_tsne\u001b[0;34m(self, P, degrees_of_freedom, n_samples, random_state, X_embedded, neighbors, skip_num_points)\u001b[0m\n\u001b[1;32m    826\u001b[0m         \u001b[0;31m# Early exaggeration\u001b[0m\u001b[0;34m\u001b[0m\u001b[0;34m\u001b[0m\u001b[0m\n\u001b[1;32m    827\u001b[0m         \u001b[0mP\u001b[0m \u001b[0;34m*=\u001b[0m \u001b[0mself\u001b[0m\u001b[0;34m.\u001b[0m\u001b[0mearly_exaggeration\u001b[0m\u001b[0;34m\u001b[0m\u001b[0m\n\u001b[0;32m--> 828\u001b[0;31m         \u001b[0mparams\u001b[0m\u001b[0;34m,\u001b[0m \u001b[0merror\u001b[0m\u001b[0;34m,\u001b[0m \u001b[0mit\u001b[0m \u001b[0;34m=\u001b[0m \u001b[0m_gradient_descent\u001b[0m\u001b[0;34m(\u001b[0m\u001b[0mobj_func\u001b[0m\u001b[0;34m,\u001b[0m \u001b[0mparams\u001b[0m\u001b[0;34m,\u001b[0m \u001b[0;34m**\u001b[0m\u001b[0mopt_args\u001b[0m\u001b[0;34m)\u001b[0m\u001b[0;34m\u001b[0m\u001b[0m\n\u001b[0m\u001b[1;32m    829\u001b[0m         \u001b[0mopt_args\u001b[0m\u001b[0;34m[\u001b[0m\u001b[0;34m'n_iter'\u001b[0m\u001b[0;34m]\u001b[0m \u001b[0;34m=\u001b[0m \u001b[0;36m100\u001b[0m\u001b[0;34m\u001b[0m\u001b[0m\n\u001b[1;32m    830\u001b[0m         \u001b[0mopt_args\u001b[0m\u001b[0;34m[\u001b[0m\u001b[0;34m'momentum'\u001b[0m\u001b[0;34m]\u001b[0m \u001b[0;34m=\u001b[0m \u001b[0;36m0.8\u001b[0m\u001b[0;34m\u001b[0m\u001b[0m\n",
      "\u001b[0;32m/usr/local/lib/python2.7/site-packages/sklearn/manifold/t_sne.pyc\u001b[0m in \u001b[0;36m_gradient_descent\u001b[0;34m(objective, p0, it, n_iter, objective_error, n_iter_check, n_iter_without_progress, momentum, learning_rate, min_gain, min_grad_norm, min_error_diff, verbose, args, kwargs)\u001b[0m\n\u001b[1;32m    385\u001b[0m     \u001b[0;32mfor\u001b[0m \u001b[0mi\u001b[0m \u001b[0;32min\u001b[0m \u001b[0mrange\u001b[0m\u001b[0;34m(\u001b[0m\u001b[0mit\u001b[0m\u001b[0;34m,\u001b[0m \u001b[0mn_iter\u001b[0m\u001b[0;34m)\u001b[0m\u001b[0;34m:\u001b[0m\u001b[0;34m\u001b[0m\u001b[0m\n\u001b[1;32m    386\u001b[0m         \u001b[0mnew_error\u001b[0m\u001b[0;34m,\u001b[0m \u001b[0mgrad\u001b[0m \u001b[0;34m=\u001b[0m \u001b[0mobjective\u001b[0m\u001b[0;34m(\u001b[0m\u001b[0mp\u001b[0m\u001b[0;34m,\u001b[0m \u001b[0;34m*\u001b[0m\u001b[0margs\u001b[0m\u001b[0;34m,\u001b[0m \u001b[0;34m**\u001b[0m\u001b[0mkwargs\u001b[0m\u001b[0;34m)\u001b[0m\u001b[0;34m\u001b[0m\u001b[0m\n\u001b[0;32m--> 387\u001b[0;31m         \u001b[0mgrad_norm\u001b[0m \u001b[0;34m=\u001b[0m \u001b[0mlinalg\u001b[0m\u001b[0;34m.\u001b[0m\u001b[0mnorm\u001b[0m\u001b[0;34m(\u001b[0m\u001b[0mgrad\u001b[0m\u001b[0;34m)\u001b[0m\u001b[0;34m\u001b[0m\u001b[0m\n\u001b[0m\u001b[1;32m    388\u001b[0m \u001b[0;34m\u001b[0m\u001b[0m\n\u001b[1;32m    389\u001b[0m         \u001b[0minc\u001b[0m \u001b[0;34m=\u001b[0m \u001b[0mupdate\u001b[0m \u001b[0;34m*\u001b[0m \u001b[0mgrad\u001b[0m \u001b[0;34m>=\u001b[0m \u001b[0;36m0.0\u001b[0m\u001b[0;34m\u001b[0m\u001b[0m\n",
      "\u001b[0;32m/usr/local/lib/python2.7/site-packages/scipy/linalg/misc.pyc\u001b[0m in \u001b[0;36mnorm\u001b[0;34m(a, ord, axis, keepdims)\u001b[0m\n\u001b[1;32m    127\u001b[0m     \"\"\"\n\u001b[1;32m    128\u001b[0m     \u001b[0;31m# Differs from numpy only in non-finite handling and the use of blas.\u001b[0m\u001b[0;34m\u001b[0m\u001b[0;34m\u001b[0m\u001b[0m\n\u001b[0;32m--> 129\u001b[0;31m     \u001b[0ma\u001b[0m \u001b[0;34m=\u001b[0m \u001b[0mnp\u001b[0m\u001b[0;34m.\u001b[0m\u001b[0masarray_chkfinite\u001b[0m\u001b[0;34m(\u001b[0m\u001b[0ma\u001b[0m\u001b[0;34m)\u001b[0m\u001b[0;34m\u001b[0m\u001b[0m\n\u001b[0m\u001b[1;32m    130\u001b[0m \u001b[0;34m\u001b[0m\u001b[0m\n\u001b[1;32m    131\u001b[0m     \u001b[0;31m# Only use optimized norms if axis and keepdims are not specified.\u001b[0m\u001b[0;34m\u001b[0m\u001b[0;34m\u001b[0m\u001b[0m\n",
      "\u001b[0;32m/usr/local/lib/python2.7/site-packages/numpy/lib/function_base.pyc\u001b[0m in \u001b[0;36masarray_chkfinite\u001b[0;34m(a, dtype, order)\u001b[0m\n\u001b[1;32m    666\u001b[0m     \u001b[0;32mif\u001b[0m \u001b[0ma\u001b[0m\u001b[0;34m.\u001b[0m\u001b[0mdtype\u001b[0m\u001b[0;34m.\u001b[0m\u001b[0mchar\u001b[0m \u001b[0;32min\u001b[0m \u001b[0mtypecodes\u001b[0m\u001b[0;34m[\u001b[0m\u001b[0;34m'AllFloat'\u001b[0m\u001b[0;34m]\u001b[0m \u001b[0;32mand\u001b[0m \u001b[0;32mnot\u001b[0m \u001b[0mnp\u001b[0m\u001b[0;34m.\u001b[0m\u001b[0misfinite\u001b[0m\u001b[0;34m(\u001b[0m\u001b[0ma\u001b[0m\u001b[0;34m)\u001b[0m\u001b[0;34m.\u001b[0m\u001b[0mall\u001b[0m\u001b[0;34m(\u001b[0m\u001b[0;34m)\u001b[0m\u001b[0;34m:\u001b[0m\u001b[0;34m\u001b[0m\u001b[0m\n\u001b[1;32m    667\u001b[0m         raise ValueError(\n\u001b[0;32m--> 668\u001b[0;31m             \"array must not contain infs or NaNs\")\n\u001b[0m\u001b[1;32m    669\u001b[0m     \u001b[0;32mreturn\u001b[0m \u001b[0ma\u001b[0m\u001b[0;34m\u001b[0m\u001b[0m\n\u001b[1;32m    670\u001b[0m \u001b[0;34m\u001b[0m\u001b[0m\n",
      "\u001b[0;31mValueError\u001b[0m: array must not contain infs or NaNs"
     ]
    }
   ],
   "source": [
    "a, b = fit_plot_tsne_cos(cluster_model.cluster_centers_indices_)"
   ]
  },
  {
   "cell_type": "code",
   "execution_count": 598,
   "metadata": {
    "collapsed": false
   },
   "outputs": [
    {
     "data": {
      "text/plain": [
       "(400,)"
      ]
     },
     "execution_count": 598,
     "metadata": {},
     "output_type": "execute_result"
    }
   ],
   "source": [
    "cluster_model.cluster_centers_indices_.reshape()"
   ]
  },
  {
   "cell_type": "code",
   "execution_count": null,
   "metadata": {
    "collapsed": true
   },
   "outputs": [],
   "source": []
  },
  {
   "cell_type": "code",
   "execution_count": null,
   "metadata": {
    "collapsed": true
   },
   "outputs": [],
   "source": []
  },
  {
   "cell_type": "code",
   "execution_count": null,
   "metadata": {
    "collapsed": true
   },
   "outputs": [],
   "source": []
  },
  {
   "cell_type": "code",
   "execution_count": null,
   "metadata": {
    "collapsed": true
   },
   "outputs": [],
   "source": []
  },
  {
   "cell_type": "code",
   "execution_count": null,
   "metadata": {
    "collapsed": true
   },
   "outputs": [],
   "source": []
  },
  {
   "cell_type": "code",
   "execution_count": null,
   "metadata": {
    "collapsed": true
   },
   "outputs": [],
   "source": []
  },
  {
   "cell_type": "code",
   "execution_count": null,
   "metadata": {
    "collapsed": true
   },
   "outputs": [],
   "source": []
  },
  {
   "cell_type": "code",
   "execution_count": null,
   "metadata": {
    "collapsed": true
   },
   "outputs": [],
   "source": []
  },
  {
   "cell_type": "code",
   "execution_count": null,
   "metadata": {
    "collapsed": true
   },
   "outputs": [],
   "source": []
  },
  {
   "cell_type": "code",
   "execution_count": null,
   "metadata": {
    "collapsed": true
   },
   "outputs": [],
   "source": []
  },
  {
   "cell_type": "code",
   "execution_count": null,
   "metadata": {
    "collapsed": true
   },
   "outputs": [],
   "source": []
  },
  {
   "cell_type": "code",
   "execution_count": null,
   "metadata": {
    "collapsed": true
   },
   "outputs": [],
   "source": []
  },
  {
   "cell_type": "code",
   "execution_count": null,
   "metadata": {
    "collapsed": true
   },
   "outputs": [],
   "source": []
  },
  {
   "cell_type": "code",
   "execution_count": null,
   "metadata": {
    "collapsed": true
   },
   "outputs": [],
   "source": []
  },
  {
   "cell_type": "code",
   "execution_count": null,
   "metadata": {
    "collapsed": true
   },
   "outputs": [],
   "source": []
  },
  {
   "cell_type": "code",
   "execution_count": null,
   "metadata": {
    "collapsed": true
   },
   "outputs": [],
   "source": []
  },
  {
   "cell_type": "code",
   "execution_count": null,
   "metadata": {
    "collapsed": true
   },
   "outputs": [],
   "source": []
  },
  {
   "cell_type": "code",
   "execution_count": null,
   "metadata": {
    "collapsed": true
   },
   "outputs": [],
   "source": []
  },
  {
   "cell_type": "code",
   "execution_count": null,
   "metadata": {
    "collapsed": false
   },
   "outputs": [],
   "source": []
  },
  {
   "cell_type": "code",
   "execution_count": null,
   "metadata": {
    "collapsed": true
   },
   "outputs": [],
   "source": []
  },
  {
   "cell_type": "code",
   "execution_count": null,
   "metadata": {
    "collapsed": true
   },
   "outputs": [],
   "source": []
  },
  {
   "cell_type": "code",
   "execution_count": null,
   "metadata": {
    "collapsed": true
   },
   "outputs": [],
   "source": []
  },
  {
   "cell_type": "code",
   "execution_count": null,
   "metadata": {
    "collapsed": true
   },
   "outputs": [],
   "source": []
  },
  {
   "cell_type": "code",
   "execution_count": null,
   "metadata": {
    "collapsed": true
   },
   "outputs": [],
   "source": []
  },
  {
   "cell_type": "code",
   "execution_count": null,
   "metadata": {
    "collapsed": true
   },
   "outputs": [],
   "source": []
  },
  {
   "cell_type": "code",
   "execution_count": null,
   "metadata": {
    "collapsed": true
   },
   "outputs": [],
   "source": []
  },
  {
   "cell_type": "code",
   "execution_count": null,
   "metadata": {
    "collapsed": true
   },
   "outputs": [],
   "source": []
  },
  {
   "cell_type": "code",
   "execution_count": null,
   "metadata": {
    "collapsed": true
   },
   "outputs": [],
   "source": []
  },
  {
   "cell_type": "code",
   "execution_count": null,
   "metadata": {
    "collapsed": true
   },
   "outputs": [],
   "source": []
  },
  {
   "cell_type": "code",
   "execution_count": null,
   "metadata": {
    "collapsed": true
   },
   "outputs": [],
   "source": []
  },
  {
   "cell_type": "markdown",
   "metadata": {},
   "source": [
    "# Maybe in the future..."
   ]
  },
  {
   "cell_type": "markdown",
   "metadata": {},
   "source": [
    "### Affinity Propagation"
   ]
  },
  {
   "cell_type": "markdown",
   "metadata": {},
   "source": [
    "There's an unknown number of clusters so AffinityPropagation is appropriate. "
   ]
  },
  {
   "cell_type": "code",
   "execution_count": 376,
   "metadata": {
    "collapsed": false
   },
   "outputs": [
    {
     "name": "stdout",
     "output_type": "stream",
     "text": [
      "-0.086322024701\n"
     ]
    }
   ],
   "source": [
    "silh_score, cluster_model, clustered_ch_w_sent = cluster_docs(TFIDF_SCRIPT.toarray())\n",
    "print silh_score"
   ]
  },
  {
   "cell_type": "code",
   "execution_count": 335,
   "metadata": {
    "collapsed": false
   },
   "outputs": [
    {
     "data": {
      "text/plain": [
       "[(100, 'FINN', 'we need to get outta thi system! INT. TIE FIGHTER - DAY'),\n",
       " (100, 'FINN', \"i'm in charg now, phasma. FN-2187.\"),\n",
       " (100,\n",
       "  'FINN',\n",
       "  'chewi moan/talks. INT. STARKILLER BASE - CONTROL ACCESS POINT - DAY'),\n",
       " (100, 'REY', 'bb-8 stay close! EXT. NIIMA OUTPOST - DAY'),\n",
       " (100, 'REY', 'huge! INT. CARGO SHIP - BELOW FLOOR GRATING - DAY'),\n",
       " (100, 'REY', 'i believ that. INT. RESISTANCE BASE - I.C.U. - DAY'),\n",
       " (100, 'POE', 'nice shot. INT. TIE FIGHTER - DAY'),\n",
       " (100, 'MAZ', \"han solo! INT. MAZ'S CASTLE - MAIN ROOM - DAY\")]"
      ]
     },
     "execution_count": 335,
     "metadata": {},
     "output_type": "execute_result"
    }
   ],
   "source": [
    "[x for x in clustered_ch_w_sent if x[0] == 100]"
   ]
  },
  {
   "cell_type": "markdown",
   "metadata": {},
   "source": [
    "# After Reduction k=160 (plotting high dimension into 2D)"
   ]
  },
  {
   "cell_type": "markdown",
   "metadata": {},
   "source": [
    "#### TSNE"
   ]
  },
  {
   "cell_type": "code",
   "execution_count": 353,
   "metadata": {
    "collapsed": true
   },
   "outputs": [],
   "source": [
    "T,sigma,D_trans = SVDS(TFIDF_SCRIPT.toarray().T, k=160)\n",
    "D = D_trans.T"
   ]
  },
  {
   "cell_type": "code",
   "execution_count": 355,
   "metadata": {
    "collapsed": false
   },
   "outputs": [],
   "source": [
    "D_scripts, D_char_nums = fit_plot_tsne_cos(D)"
   ]
  },
  {
   "cell_type": "code",
   "execution_count": 371,
   "metadata": {
    "collapsed": true
   },
   "outputs": [
    {
     "data": {
      "text/plain": [
       "(<matplotlib.figure.Figure at 0x112fd1950>,\n",
       " <matplotlib.axes._subplots.AxesSubplot at 0x13656dad0>,\n",
       " <matplotlib.collections.PathCollection at 0x112d1a110>,\n",
       " [<matplotlib.text.Text at 0x124b3cb50>,\n",
       "  <matplotlib.text.Text at 0x112d1af10>,\n",
       "  <matplotlib.text.Text at 0x112d28510>,\n",
       "  <matplotlib.text.Text at 0x112d28ad0>,\n",
       "  <matplotlib.text.Text at 0x112f590d0>])"
      ]
     },
     "execution_count": 371,
     "metadata": {},
     "output_type": "execute_result"
    },
    {
     "data": {
      "image/png": "[encoded data removed]",
      "text/plain": [
       "<matplotlib.figure.Figure at 0x112fd1950>"
      ]
     },
     "metadata": {},
     "output_type": "display_data"
    }
   ],
   "source": [
    "D_filtered_scripts, D_filtered_char_nums = filter_array(D_scripts, D_char_nums, ['LEIA', 'KYLO', 'HAN', 'SNOKE', 'MAZ'])\n",
    "scatter(D_filtered_scripts, D_filtered_char_nums)\n"
   ]
  },
  {
   "cell_type": "markdown",
   "metadata": {},
   "source": [
    "#### Affinity Propagation"
   ]
  },
  {
   "cell_type": "code",
   "execution_count": 357,
   "metadata": {
    "collapsed": false
   },
   "outputs": [],
   "source": [
    "silh_score, cluster_model, clustered_ch_w_sent = cluster_docs(D)"
   ]
  },
  {
   "cell_type": "code",
   "execution_count": 363,
   "metadata": {
    "collapsed": false
   },
   "outputs": [
    {
     "data": {
      "text/plain": [
       "[(100, 'REY', 'she head off again. (BB-8 BEEPS)'),\n",
       " (100, 'REY', 'they head off together. (BB-8 BEEPS)'),\n",
       " (100, 'REY', 'come on. INT. NIIMA TRADING STRUCTURE - DAY'),\n",
       " (100, 'HAN', 'han head off as: INT. CARGO SHIP - HANGAR - DAY'),\n",
       " (100, 'MAZ', \"everyon turn to look. INT. MAZ'S CASTLE - MAIN ROOM - DAY\"),\n",
       " (100,\n",
       "  'STORMTROOPER',\n",
       "  'rey, finn and bb-8 duck into anoth tent: EXT. NIIMA OUTPOST - DAY'),\n",
       " (100,\n",
       "  'UNKAR',\n",
       "  'she swallow her resent and head off. INT. NIIMA TRADING STRUCTURE - DAY'),\n",
       " (100,\n",
       "  'LIEUTENANT',\n",
       "  'ren turn to look at him, he say nothing. INT. STAR DESTROYER BRIDGE - DAY'),\n",
       " (100,\n",
       "  'NO!',\n",
       "  \"she turn to look -- we pivot -- and see a burn templ at night. INT. MAZ'S CASTLE - CRYPT ROOM - DAY\")]"
      ]
     },
     "execution_count": 363,
     "metadata": {},
     "output_type": "execute_result"
    }
   ],
   "source": [
    "[x for x in clustered_ch_w_sent if x[0] == 100]"
   ]
  }
 ],
 "metadata": {
  "kernelspec": {
   "display_name": "Python 2",
   "language": "python",
   "name": "python2"
  },
  "language_info": {
   "codemirror_mode": {
    "name": "ipython",
    "version": 2
   },
   "file_extension": ".py",
   "mimetype": "text/x-python",
   "name": "python",
   "nbconvert_exporter": "python",
   "pygments_lexer": "ipython2",
   "version": "2.7.11"
  }
 },
 "nbformat": 4,
 "nbformat_minor": 0
}
