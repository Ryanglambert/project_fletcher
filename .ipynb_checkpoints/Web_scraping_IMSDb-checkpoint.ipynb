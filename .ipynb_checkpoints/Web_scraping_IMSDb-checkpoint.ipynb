{
 "cells": [
  {
   "cell_type": "code",
   "execution_count": 1,
   "metadata": {
    "collapsed": false
   },
   "outputs": [],
   "source": [
    "import numpy as np\n",
    "import requests\n",
    "import re\n",
    "\n",
    "from bs4 import BeautifulSoup\n",
    "\n",
    "from nltk import sent_tokenize\n",
    "from nltk import word_tokenize\n",
    "from nltk import pos_tag\n",
    "from nltk import PorterStemmer\n",
    "from nltk.corpus import stopwords\n",
    "import re"
   ]
  },
  {
   "cell_type": "code",
   "execution_count": 2,
   "metadata": {
    "collapsed": true
   },
   "outputs": [],
   "source": [
    "stop_words = stopwords.words('english')\n",
    "def get_movie_soup(link):\n",
    "    response = requests.get(link)\n",
    "    movie_soup = BeautifulSoup(response.content, 'html.parser')\n",
    "    return movie_soup\n",
    "\n"
   ]
  },
  {
   "cell_type": "markdown",
   "metadata": {},
   "source": [
    "#### Find character names\n",
    "They will be bold and will be followed by their text"
   ]
  },
  {
   "cell_type": "code",
   "execution_count": 3,
   "metadata": {
    "collapsed": false
   },
   "outputs": [],
   "source": [
    "from collections import defaultdict, OrderedDict\n",
    "string_list = [\"FINN\", \"EXT. NIIMA OUTPOST - DAY\", \"I/E MARK'S FORD - DAY\",\n",
    "              \"CUT TO:\", \"(to chewie)\"]\n",
    "\n",
    "def is_scene(string, tags=['INT.', 'EXT.', 'I/E', '-']):\n",
    "    int_or_ext = [i in string.upper() for i in tags]\n",
    "    return sum(int_or_ext) != 0\n",
    "\n",
    "BEG_PARENS_REGEX = re.compile(r'\\(')\n",
    "def is_addressant(string):\n",
    "    if BEG_PARENS_REGEX.match(string):\n",
    "        return True\n",
    "    else:\n",
    "        return False\n",
    "\n",
    "\n",
    "# for i in zip(string_list, map(is_scene, string_list)):\n",
    "#     print \"is scene?: \", i\n",
    "# for i in zip(string_list, map(is_addressant, string_list)):\n",
    "#     print \"is addressant?: \", i"
   ]
  },
  {
   "cell_type": "code",
   "execution_count": 4,
   "metadata": {
    "collapsed": false
   },
   "outputs": [
    {
     "data": {
      "text/plain": [
       "'EXT. SOMETHING DARKSIDE'"
      ]
     },
     "execution_count": 4,
     "metadata": {},
     "output_type": "execute_result"
    }
   ],
   "source": [
    "a = 'hello      high     how are you.  There.'\n",
    "rey = \"REY (CONT'D)\"\n",
    "han = \"HAN (Continued)\"\n",
    "ext = \"EXT. SOMETHING DARKSIDE\"\n",
    "\n",
    "WHT_SPC_REGEX = re.compile(r'\\s{2,}')\n",
    "def remove_long_white_space(string):\n",
    "    new_string = WHT_SPC_REGEX.sub(' ', string)\n",
    "    return new_string\n",
    "\n",
    "PARENS_REGEX = re.compile(r'(\\w{2,})+\\s(.*)')\n",
    "def remove_parens(string):\n",
    "    if \"(\" in string:        \n",
    "        new_string = PARENS_REGEX.sub(r'\\1', string)\n",
    "        return new_string\n",
    "    else:\n",
    "        return string\n",
    "\n",
    "\n",
    "remove_parens(ext)"
   ]
  },
  {
   "cell_type": "markdown",
   "metadata": {},
   "source": [
    "## Put your soup in here!"
   ]
  },
  {
   "cell_type": "code",
   "execution_count": 5,
   "metadata": {
    "collapsed": true
   },
   "outputs": [],
   "source": [
    "# bad_country = get_movie_soup('http://www.imsdb.com/scripts/Bad-Country.html')\n",
    "# star_wars = get_movie_soup('http://www.imsdb.com/scripts/Star-Wars-The-Force-Awakens.html')\n",
    "# few_good_men = get_movie_soup('http://www.imsdb.com/scripts/A-Few-Good-Men.html')"
   ]
  },
  {
   "cell_type": "code",
   "execution_count": 6,
   "metadata": {
    "collapsed": false
   },
   "outputs": [],
   "source": [
    "def get_movie_script(link):\n",
    "    movie_soup = get_movie_soup(link)\n",
    "    movie_text = movie_soup.findAll('pre')[0]\n",
    "    return str(movie_text)\n",
    "# script = few_good_men.findAll('pre')[0]\n"
   ]
  },
  {
   "cell_type": "code",
   "execution_count": 7,
   "metadata": {
    "collapsed": false
   },
   "outputs": [],
   "source": [
    "def clean_text(text):\n",
    "    bold_splits = text.split('<b>')\n",
    "\n",
    "    character_docs = defaultdict(list)\n",
    "    scene_docs = defaultdict(list)\n",
    "\n",
    "    character_sents = []\n",
    "    character_track = []\n",
    "\n",
    "    current_scene = None\n",
    "    prior_character = None\n",
    "    missed_things = 0\n",
    "    porter_stemmer = PorterStemmer()\n",
    "    for slug in bold_splits:\n",
    "        phrase = slug.strip().split('</b>')\n",
    "        bold = phrase[0].strip()\n",
    "        bold = remove_parens(bold)\n",
    "\n",
    "        if is_scene(bold):\n",
    "            current_scene = bold\n",
    "\n",
    "        try:\n",
    "            sentences = phrase[1].strip()        \n",
    "            if not is_scene(bold):\n",
    "                sentences_list = sent_tokenize(sentences, language=\"english\")\n",
    "                for sent in sentences_list:\n",
    "                    sent_cleaned = sent.replace(\"\\r\\n\", \"\")\n",
    "                    sent_cleaned = remove_long_white_space(sent_cleaned)\n",
    "                    sent_cleaned = sent_cleaned.lower()\n",
    "                    current_character = bold\n",
    "                    if is_addressant(bold):\n",
    "                        current_character = prior_character\n",
    "\n",
    "                    if sent_cleaned != None and current_scene != None\\\n",
    "                    and current_character != None:\n",
    "                        sent_cleaned = sent_cleaned.split(\" \")\n",
    "                        sent_cleaned = \" \".join(porter_stemmer.stem_word(word) for word in sent_cleaned)\n",
    "                        character_docs[current_character].append((\n",
    "                        \" \".join([sent_cleaned, current_scene])))\n",
    "    #                     character_sents.append((sent_cleaned, current_scene))\n",
    "    #                     character_track.append(current_character)\n",
    "\n",
    "                    prior_character = bold\n",
    "\n",
    "\n",
    "        except IndexError:\n",
    "            pass\n",
    "            missed_things += 1\n",
    "    return character_docs\n",
    "\n",
    "\n",
    "\n",
    "def order_character_dict(dictionary):\n",
    "    characters = dictionary.keys()\n",
    "    for name in characters:\n",
    "        for name_scan in characters:\n",
    "            if name in name_scan and name != name_scan:\n",
    "                dictionary[name] += dictionary[name_scan]\n",
    "                dictionary[name_scan] = []\n",
    "\n",
    "    ordered = OrderedDict(sorted(dictionary.items(), \n",
    "                                 key=lambda t: len(t[1]), \n",
    "                                 reverse=True))\n",
    "    return ordered\n",
    "\n",
    "# def get_ch_docs\n",
    "\n",
    "def gen_char_tags(characters_to_analyze, character_docs):\n",
    "\n",
    "    sentence_list = []\n",
    "    char_tags = []\n",
    "    for character in characters_to_analyze:\n",
    "        for line in character_docs[character]:\n",
    "            sentence_list.append(line)\n",
    "            char_tags.append(character)\n",
    "    return char_tags, sentence_list"
   ]
  },
  {
   "cell_type": "markdown",
   "metadata": {},
   "source": [
    "# Vectorize and SVD Per Character"
   ]
  },
  {
   "cell_type": "markdown",
   "metadata": {},
   "source": [
    "Need to reduce for set of characters then cluster (then grab cosine similarity of the means of c"
   ]
  },
  {
   "cell_type": "code",
   "execution_count": 8,
   "metadata": {
    "collapsed": false
   },
   "outputs": [
    {
     "name": "stderr",
     "output_type": "stream",
     "text": [
      "/usr/local/lib/python2.7/site-packages/matplotlib/font_manager.py:273: UserWarning: Matplotlib is building the font cache using fc-list. This may take a moment.\n",
      "  warnings.warn('Matplotlib is building the font cache using fc-list. This may take a moment.')\n"
     ]
    }
   ],
   "source": [
    "import matplotlib.pyplot as plt\n",
    "from sklearn.feature_extraction.text import TfidfVectorizer\n",
    "from scipy.sparse.linalg import svds as SVDS\n",
    "\n",
    "%matplotlib inline"
   ]
  },
  {
   "cell_type": "code",
   "execution_count": 9,
   "metadata": {
    "collapsed": false
   },
   "outputs": [],
   "source": [
    "script = get_movie_script('http://www.imsdb.com/scripts/Star-Wars-The-Force-Awakens.html')\n",
    "character_docs = order_character_dict(\n",
    "    clean_text(script))\n",
    "characters_to_analyze = character_docs.keys()[0:4]\n",
    "characters_to_analyze = ['LEIA', 'MAZ', 'REY']\n",
    "char_tags, sentence_list = gen_char_tags(characters_to_analyze, character_docs)\n"
   ]
  },
  {
   "cell_type": "code",
   "execution_count": 10,
   "metadata": {
    "collapsed": false
   },
   "outputs": [
    {
     "data": {
      "text/plain": [
       "(0, 1)"
      ]
     },
     "execution_count": 10,
     "metadata": {},
     "output_type": "execute_result"
    },
    {
     "data": {
      "image/png": "[encoded data removed]",
      "text/plain": [
       "<matplotlib.figure.Figure at 0x113602710>"
      ]
     },
     "metadata": {},
     "output_type": "display_data"
    }
   ],
   "source": [
    "vectorizer = TfidfVectorizer(ngram_range=(1,2), stop_words=stop_words)\n",
    "x = vectorizer.fit_transform(sentence_list).T\n",
    "T,sigma,D_trans = SVDS(x, k=160)\n",
    "D = D_trans.T\n",
    "plt.plot(1/sigma)\n",
    "plt.xlim(0, 225)\n",
    "plt.ylim(0, 1)"
   ]
  },
  {
   "cell_type": "code",
   "execution_count": 11,
   "metadata": {
    "collapsed": false
   },
   "outputs": [],
   "source": [
    "from scipy.spatial.distance import pdist\n",
    "from scipy.spatial.distance import squareform\n",
    "from sklearn.manifold import TSNE\n",
    "from sklearn.cluster import KMeans, AffinityPropagation\n",
    "\n",
    "from sklearn.metrics.pairwise import distance_metrics "
   ]
  },
  {
   "cell_type": "markdown",
   "metadata": {},
   "source": [
    "Look at this it appears I could use "
   ]
  },
  {
   "cell_type": "markdown",
   "metadata": {},
   "source": [
    "#### Correlation Map"
   ]
  },
  {
   "cell_type": "code",
   "execution_count": 12,
   "metadata": {
    "collapsed": true
   },
   "outputs": [
    {
     "data": {
      "text/plain": [
       "<matplotlib.image.AxesImage at 0x1147ae050>"
      ]
     },
     "execution_count": 12,
     "metadata": {},
     "output_type": "execute_result"
    },
    {
     "data": {
      "image/png": "[encoded data removed]",
      "text/plain": [
       "<matplotlib.figure.Figure at 0x111265b90>"
      ]
     },
     "metadata": {},
     "output_type": "display_data"
    }
   ],
   "source": [
    "pair_dist = pdist(x.toarray(), 'cosine')\n",
    "v = squareform(pair_dist)\n",
    "fig = plt.figure(figsize=(10,10))\n",
    "ax = fig.add_subplot(111)\n",
    "ax.matshow(v, cmap=plt.cm.gray)"
   ]
  },
  {
   "cell_type": "markdown",
   "metadata": {},
   "source": [
    "#### TSNE (plotting high dimension into 2D)"
   ]
  },
  {
   "cell_type": "code",
   "execution_count": 13,
   "metadata": {
    "collapsed": true
   },
   "outputs": [],
   "source": [
    "from sklearn.metrics.pairwise import pairwise_distances"
   ]
  },
  {
   "cell_type": "code",
   "execution_count": 14,
   "metadata": {
    "collapsed": true
   },
   "outputs": [],
   "source": [
    "ryans_cosine = lambda x, y: pairwise_distances(x, Y=y, metric='cosine') + 1"
   ]
  },
  {
   "cell_type": "markdown",
   "metadata": {},
   "source": [
    "# stop"
   ]
  },
  {
   "cell_type": "code",
   "execution_count": null,
   "metadata": {
    "collapsed": false
   },
   "outputs": [],
   "source": [
    "digits_proj = TSNE(random_state=0, n_components=2, metric=ryans_cosine).fit_transform(D)"
   ]
  },
  {
   "cell_type": "code",
   "execution_count": null,
   "metadata": {
    "collapsed": false
   },
   "outputs": [],
   "source": [
    "import seaborn as sns\n",
    "import matplotlib.patheffects as PathEffects\n",
    "\n",
    "def scatter(x, colors):\n",
    "    # We choose a color palette with seaborn.\n",
    "    palette = np.array(sns.color_palette(\"hls\", 10))\n",
    "\n",
    "    # We create a scatter plot.\n",
    "    f = plt.figure(figsize=(8, 8))\n",
    "    ax = plt.subplot(aspect='equal')\n",
    "    sc = ax.scatter(x[:,0], x[:,1], lw=0, s=40,\n",
    "                    c=palette[colors.astype(np.int)])\n",
    "#     plt.xlim(-25, 25)\n",
    "#     plt.ylim(-25, 25)\n",
    "    plt.xlim(-.1, .1)\n",
    "    plt.ylim(-.1, .1)\n",
    "    ax.axis('off')\n",
    "    ax.axis('tight')\n",
    "\n",
    "    # We add the labels for each digit.\n",
    "    txts = []\n",
    "    for i in set(colors):\n",
    "        # Position of each label.\n",
    "        xtext, ytext = np.median(x[colors == i, :], axis=0)\n",
    "#         print \"x is\", x\n",
    "#         print \"colors is: \", colors\n",
    "        txt = ax.text(xtext, ytext, characters_to_analyze[i], fontsize=24)\n",
    "        txt.set_path_effects([\n",
    "            PathEffects.Stroke(linewidth=5, foreground=\"w\"),\n",
    "            PathEffects.Normal()])\n",
    "        txts.append(txt)\n",
    "#     for char in \n",
    "    return f, ax, sc, txts\n",
    "\n",
    "char_convert_num = dict(enumerate(characters_to_analyze))\n",
    "char_convert_num = {v: k for k, v in char_convert_num.items()}\n",
    "y = np.array(map(lambda x: char_convert_num[x], char_tags))\n",
    "scatter(digits_proj, y);"
   ]
  },
  {
   "cell_type": "code",
   "execution_count": null,
   "metadata": {
    "collapsed": false
   },
   "outputs": [],
   "source": [
    "from sklearn.cluster import AgglomerativeClustering\n",
    "\n",
    "agg_cluster = AgglomerativeClustering(linkage='', affinity='cosine')"
   ]
  },
  {
   "cell_type": "code",
   "execution_count": null,
   "metadata": {
    "collapsed": false
   },
   "outputs": [],
   "source": [
    "agg_cluster.fit(x.toarray())"
   ]
  },
  {
   "cell_type": "code",
   "execution_count": null,
   "metadata": {
    "collapsed": true
   },
   "outputs": [],
   "source": []
  },
  {
   "cell_type": "code",
   "execution_count": null,
   "metadata": {
    "collapsed": true
   },
   "outputs": [],
   "source": []
  },
  {
   "cell_type": "code",
   "execution_count": null,
   "metadata": {
    "collapsed": true
   },
   "outputs": [],
   "source": []
  },
  {
   "cell_type": "code",
   "execution_count": null,
   "metadata": {
    "collapsed": true
   },
   "outputs": [],
   "source": []
  },
  {
   "cell_type": "code",
   "execution_count": null,
   "metadata": {
    "collapsed": true
   },
   "outputs": [],
   "source": []
  },
  {
   "cell_type": "code",
   "execution_count": null,
   "metadata": {
    "collapsed": true
   },
   "outputs": [],
   "source": []
  }
 ],
 "metadata": {
  "kernelspec": {
   "display_name": "Python 2",
   "language": "python",
   "name": "python2"
  },
  "language_info": {
   "codemirror_mode": {
    "name": "ipython",
    "version": 2
   },
   "file_extension": ".py",
   "mimetype": "text/x-python",
   "name": "python",
   "nbconvert_exporter": "python",
   "pygments_lexer": "ipython2",
   "version": "2.7.11"
  }
 },
 "nbformat": 4,
 "nbformat_minor": 0
}
